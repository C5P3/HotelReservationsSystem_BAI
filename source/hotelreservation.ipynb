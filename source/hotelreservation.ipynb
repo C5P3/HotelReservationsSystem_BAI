{
 "cells": [
  {
   "cell_type": "code",
   "execution_count": null,
   "id": "4b4f4fbc",
   "metadata": {},
   "outputs": [
    {
     "name": "stdout",
     "output_type": "stream",
     "text": [
      "hello world\n"
     ]
    }
   ],
   "source": [
    "print(\"hello world\")"
   ]
  },
  {
   "cell_type": "markdown",
   "id": "4c231c55",
   "metadata": {},
   "source": [
    "1. Erstellen eines Python Environements in VSCode CTRL + SHIFT + P Python Environemnt auswählen venv\n",
    "2. überprüfen: Terminal schliessen und wieder öffnen.\n",
    "3. pip intall jupyter\n"
   ]
  },
  {
   "cell_type": "markdown",
   "id": "4b47ff36",
   "metadata": {},
   "source": [
    "User-Story 1.1 Text was es sein soll, unsere Gedanken, "
   ]
  },
  {
   "cell_type": "code",
   "execution_count": 2,
   "id": "f4340179",
   "metadata": {},
   "outputs": [],
   "source": [
    "from pathlib import Path\n",
    "import shutil\n",
    "import os"
   ]
  },
  {
   "cell_type": "code",
   "execution_count": 3,
   "id": "ba184f40",
   "metadata": {},
   "outputs": [
    {
     "name": "stdout",
     "output_type": "stream",
     "text": [
      "c:\\GitHub\\HotelReservationsSystem_BAI\\source\n"
     ]
    }
   ],
   "source": [
    "print(os.getcwd())"
   ]
  },
  {
   "cell_type": "code",
   "execution_count": 4,
   "id": "ddfc3bb5",
   "metadata": {},
   "outputs": [],
   "source": [
    "from businessLogic.hotelManager import HotelManager"
   ]
  },
  {
   "cell_type": "code",
   "execution_count": 5,
   "id": "89d44fc5",
   "metadata": {},
   "outputs": [
    {
     "name": "stdout",
     "output_type": "stream",
     "text": [
      "database\\working.db\n"
     ]
    }
   ],
   "source": [
    "original_db = Path(\"./database/hotel_reservation_sample.db\")\n",
    "working_db = Path(\"./database/working.db\")\n",
    "\n",
    "print(shutil.copyfile(str(original_db), str(working_db)))"
   ]
  },
  {
   "cell_type": "code",
   "execution_count": 6,
   "id": "45918189",
   "metadata": {},
   "outputs": [],
   "source": [
    "os.environ[\"DB_FILE\"] = str(working_db)"
   ]
  },
  {
   "cell_type": "code",
   "execution_count": 7,
   "id": "2cc0a816",
   "metadata": {},
   "outputs": [],
   "source": [
    "hotel_manager = HotelManager()"
   ]
  },
  {
   "cell_type": "markdown",
   "id": "a45e5eaf",
   "metadata": {},
   "source": [
    "User Story 1.1: \"Ich möchte alle Hotels in einer Stadt durchsuchen, damit ich das Hotel nach meinem bevorzugten Standort (Stadt) auswählen kann.\""
   ]
  },
  {
   "cell_type": "code",
   "execution_count": 8,
   "id": "88229901",
   "metadata": {},
   "outputs": [
    {
     "name": "stdout",
     "output_type": "stream",
     "text": [
      "Hotels in Bern:\n",
      "Bellevue Palace\n"
     ]
    }
   ],
   "source": [
    "city = input(\"Where do you want to search for hotels?\")\n",
    "\n",
    "hotels = hotel_manager.search_hotels_by_city(city)\n",
    "for hotel in hotels:\n",
    "    print(f'Hotels in {city}:')\n",
    "    print(hotel.name)"
   ]
  },
  {
   "cell_type": "code",
   "execution_count": 10,
   "id": "e03b1d71",
   "metadata": {},
   "outputs": [
    {
     "name": "stdout",
     "output_type": "stream",
     "text": [
      "Hotels in Bern mit mind. 5 Sternen:\n",
      "Bellevue Palace\n"
     ]
    }
   ],
   "source": [
    "city = input(\"Where do you want to search for hotels?\")\n",
    "stars = int(input(\"How many stars should the hotel have?\"))\n",
    "\n",
    "hotels = hotel_manager.search_hotels_by_city_and_stars(city, stars)\n",
    "for hotel in hotels:\n",
    "    print(f'Hotels in {city} mit mind. {stars} Sternen:')\n",
    "    print(hotel.name)"
   ]
  },
  {
   "cell_type": "markdown",
   "id": "1faa1bd3",
   "metadata": {},
   "source": [
    "User-Story 1..."
   ]
  },
  {
   "cell_type": "code",
   "execution_count": null,
   "id": "fbc8157f",
   "metadata": {},
   "outputs": [
    {
     "name": "stdout",
     "output_type": "stream",
     "text": [
      "Hotels in Zürich mit Zimmern für 2 Personen.\n",
      "Hotel Baur au Lac\n"
     ]
    }
   ],
   "source": [
    "city = input(\"Where do you want to search for hotels?\")\n",
    "max_guests = int(input(\"For how many guests do you need a room?\"))\n",
    "\n",
    "hotels = hotel_manager.search_hotels_by_city_and_max_guests(city, max_guests)\n",
    "for hotel in hotels:\n",
    "    print(f'Hotels in {city} mit Zimmern für {max_guests} Personen:')\n",
    "    print(hotel.name)"
   ]
  },
  {
   "cell_type": "code",
   "execution_count": 12,
   "id": "dd35230c",
   "metadata": {},
   "outputs": [
    {
     "ename": "OperationalError",
     "evalue": "no such table: available_hotel_rooms",
     "output_type": "error",
     "traceback": [
      "\u001b[1;31m---------------------------------------------------------------------------\u001b[0m",
      "\u001b[1;31mOperationalError\u001b[0m                          Traceback (most recent call last)",
      "Cell \u001b[1;32mIn[12], line 5\u001b[0m\n\u001b[0;32m      2\u001b[0m check_in_date \u001b[38;5;241m=\u001b[39m \u001b[38;5;28minput\u001b[39m(\u001b[38;5;124m\"\u001b[39m\u001b[38;5;124mCheck-in date (YYYY-MM-DD): \u001b[39m\u001b[38;5;124m\"\u001b[39m)\n\u001b[0;32m      3\u001b[0m check_out_date \u001b[38;5;241m=\u001b[39m \u001b[38;5;28minput\u001b[39m(\u001b[38;5;124m\"\u001b[39m\u001b[38;5;124mCheck-out date (YYYY-MM-DD): \u001b[39m\u001b[38;5;124m\"\u001b[39m)\n\u001b[1;32m----> 5\u001b[0m hotels \u001b[38;5;241m=\u001b[39m \u001b[43mhotel_manager\u001b[49m\u001b[38;5;241;43m.\u001b[39;49m\u001b[43msearch_hotels_by_city_and_dates\u001b[49m\u001b[43m(\u001b[49m\u001b[43mcity\u001b[49m\u001b[43m,\u001b[49m\u001b[43m \u001b[49m\u001b[43mcheck_in_date\u001b[49m\u001b[43m,\u001b[49m\u001b[43m \u001b[49m\u001b[43mcheck_out_date\u001b[49m\u001b[43m)\u001b[49m\n\u001b[0;32m      7\u001b[0m \u001b[38;5;28;01mfor\u001b[39;00m hotel \u001b[38;5;129;01min\u001b[39;00m hotels:\n\u001b[0;32m      8\u001b[0m     \u001b[38;5;28mprint\u001b[39m(\u001b[38;5;124mf\u001b[39m\u001b[38;5;124m'\u001b[39m\u001b[38;5;124mHotels in \u001b[39m\u001b[38;5;132;01m{\u001b[39;00mcity\u001b[38;5;132;01m}\u001b[39;00m\u001b[38;5;124m available from \u001b[39m\u001b[38;5;132;01m{\u001b[39;00mcheck_in_date\u001b[38;5;132;01m}\u001b[39;00m\u001b[38;5;124m to \u001b[39m\u001b[38;5;132;01m{\u001b[39;00mcheck_out_date\u001b[38;5;132;01m}\u001b[39;00m\u001b[38;5;124m:\u001b[39m\u001b[38;5;124m'\u001b[39m)\n",
      "File \u001b[1;32mc:\\GitHub\\HotelReservationsSystem_BAI\\source\\businessLogic\\hotelManager.py:20\u001b[0m, in \u001b[0;36mHotelManager.search_hotels_by_city_and_dates\u001b[1;34m(self, city, check_in_date, check_out_date)\u001b[0m\n\u001b[0;32m     19\u001b[0m \u001b[38;5;28;01mdef\u001b[39;00m\u001b[38;5;250m \u001b[39m\u001b[38;5;21msearch_hotels_by_city_and_dates\u001b[39m(\u001b[38;5;28mself\u001b[39m, city: \u001b[38;5;28mstr\u001b[39m, check_in_date: \u001b[38;5;28mstr\u001b[39m, check_out_date: \u001b[38;5;28mstr\u001b[39m) \u001b[38;5;241m-\u001b[39m\u001b[38;5;241m>\u001b[39m \u001b[38;5;28mlist\u001b[39m[Hotel]:\n\u001b[1;32m---> 20\u001b[0m     \u001b[38;5;28;01mreturn\u001b[39;00m \u001b[38;5;28;43mself\u001b[39;49m\u001b[38;5;241;43m.\u001b[39;49m\u001b[43m__hotel_access\u001b[49m\u001b[38;5;241;43m.\u001b[39;49m\u001b[43mget_hotel_by_city_and_dates\u001b[49m\u001b[43m(\u001b[49m\u001b[43mcity\u001b[49m\u001b[43m,\u001b[49m\u001b[43m \u001b[49m\u001b[43mcheck_in_date\u001b[49m\u001b[43m,\u001b[49m\u001b[43m \u001b[49m\u001b[43mcheck_out_date\u001b[49m\u001b[43m)\u001b[49m\n",
      "File \u001b[1;32mc:\\GitHub\\HotelReservationsSystem_BAI\\source\\dataAccess\\hotelAccess.py:99\u001b[0m, in \u001b[0;36mHotelAccess.get_hotel_by_city_and_dates\u001b[1;34m(self, city, check_in_date, check_out_date)\u001b[0m\n\u001b[0;32m     79\u001b[0m query \u001b[38;5;241m=\u001b[39m \u001b[38;5;124m\"\"\"\u001b[39m\n\u001b[0;32m     80\u001b[0m \u001b[38;5;124mSELECT DISTINCT Hotel.hotel_id, Hotel.name, Hotel.stars, Address.address_id, Address.street, Address.city, Address.zip_code\u001b[39m\n\u001b[0;32m     81\u001b[0m \u001b[38;5;124mFROM Hotel\u001b[39m\n\u001b[1;32m   (...)\u001b[0m\n\u001b[0;32m     96\u001b[0m \u001b[38;5;124m);\u001b[39m\n\u001b[0;32m     97\u001b[0m \u001b[38;5;124m\u001b[39m\u001b[38;5;124m\"\"\"\u001b[39m\n\u001b[0;32m     98\u001b[0m params \u001b[38;5;241m=\u001b[39m (city, city, check_in_date, check_out_date)\n\u001b[1;32m---> 99\u001b[0m results \u001b[38;5;241m=\u001b[39m \u001b[38;5;28;43mself\u001b[39;49m\u001b[38;5;241;43m.\u001b[39;49m\u001b[43mfetchall\u001b[49m\u001b[43m(\u001b[49m\u001b[43mquery\u001b[49m\u001b[43m,\u001b[49m\u001b[43m \u001b[49m\u001b[43mparams\u001b[49m\u001b[43m)\u001b[49m\n\u001b[0;32m    101\u001b[0m hotels \u001b[38;5;241m=\u001b[39m []\n\u001b[0;32m    102\u001b[0m \u001b[38;5;28;01mfor\u001b[39;00m row \u001b[38;5;129;01min\u001b[39;00m results:\n",
      "File \u001b[1;32mc:\\GitHub\\HotelReservationsSystem_BAI\\source\\dataAccess\\baseDataAccess.py:65\u001b[0m, in \u001b[0;36mBaseDataAccess.fetchall\u001b[1;34m(self, sql, params)\u001b[0m\n\u001b[0;32m     63\u001b[0m \u001b[38;5;28;01mexcept\u001b[39;00m sqlite3\u001b[38;5;241m.\u001b[39mError \u001b[38;5;28;01mas\u001b[39;00m e:\n\u001b[0;32m     64\u001b[0m     conn\u001b[38;5;241m.\u001b[39mrollback()\n\u001b[1;32m---> 65\u001b[0m     \u001b[38;5;28;01mraise\u001b[39;00m e\n",
      "File \u001b[1;32mc:\\GitHub\\HotelReservationsSystem_BAI\\source\\dataAccess\\baseDataAccess.py:61\u001b[0m, in \u001b[0;36mBaseDataAccess.fetchall\u001b[1;34m(self, sql, params)\u001b[0m\n\u001b[0;32m     59\u001b[0m \u001b[38;5;28;01mtry\u001b[39;00m:\n\u001b[0;32m     60\u001b[0m     cur \u001b[38;5;241m=\u001b[39m conn\u001b[38;5;241m.\u001b[39mcursor()\n\u001b[1;32m---> 61\u001b[0m     \u001b[43mcur\u001b[49m\u001b[38;5;241;43m.\u001b[39;49m\u001b[43mexecute\u001b[49m\u001b[43m(\u001b[49m\u001b[43msql\u001b[49m\u001b[43m,\u001b[49m\u001b[43m \u001b[49m\u001b[43mparams\u001b[49m\u001b[43m)\u001b[49m\n\u001b[0;32m     62\u001b[0m     \u001b[38;5;28;01mreturn\u001b[39;00m cur\u001b[38;5;241m.\u001b[39mfetchall()\n\u001b[0;32m     63\u001b[0m \u001b[38;5;28;01mexcept\u001b[39;00m sqlite3\u001b[38;5;241m.\u001b[39mError \u001b[38;5;28;01mas\u001b[39;00m e:\n",
      "\u001b[1;31mOperationalError\u001b[0m: no such table: available_hotel_rooms"
     ]
    }
   ],
   "source": [
    "city = input(\"Where do you want to search for hotels? \")\n",
    "check_in_date = input(\"Check-in date (YYYY-MM-DD): \")\n",
    "check_out_date = input(\"Check-out date (YYYY-MM-DD): \")\n",
    "\n",
    "hotels = hotel_manager.search_hotels_by_city_and_dates(city, check_in_date, check_out_date)\n",
    "\n",
    "for hotel in hotels:\n",
    "    print(f'Hotels in {city} available from {check_in_date} to {check_out_date}:')\n",
    "    print(hotel.name)"
   ]
  },
  {
   "cell_type": "code",
   "execution_count": null,
   "id": "55501473",
   "metadata": {},
   "outputs": [],
   "source": [
    "city = input(\"Where do you want to search for hotels?\")\n",
    "stars = int(input(\"How many stars should the hotel have?\"))\n",
    "max_guests = int(input(\"For how many guests do you need a room?\"))\n",
    "check_in_date = input(\"Check-in date (YYYY-MM-DD): \")\n",
    "check_out_date = input(\"Check-out date (YYYY-MM-DD): \")\n",
    "\n",
    "hotels = hotel_manager.get_hotel_information(city, stars, max_guests, check_in_date, check_out_date)\n",
    "\n",
    "for hotel in hotels: \n",
    "    print(f'Hotels in {city} with {stars} and capacity for {max_guests} available from {check_in_date} to {check_out_date}:')\n",
    "    print(hotel.name)\n",
    "          \n",
    "\n"
   ]
  }
 ],
 "metadata": {
  "kernelspec": {
   "display_name": ".venv",
   "language": "python",
   "name": "python3"
  },
  "language_info": {
   "codemirror_mode": {
    "name": "ipython",
    "version": 3
   },
   "file_extension": ".py",
   "mimetype": "text/x-python",
   "name": "python",
   "nbconvert_exporter": "python",
   "pygments_lexer": "ipython3",
   "version": "3.9.13"
  }
 },
 "nbformat": 4,
 "nbformat_minor": 5
}
