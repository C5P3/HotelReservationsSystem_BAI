{
 "cells": [
  {
   "cell_type": "code",
   "execution_count": 4,
   "id": "4b4f4fbc",
   "metadata": {},
   "outputs": [
    {
     "name": "stdout",
     "output_type": "stream",
     "text": [
      "hello world\n"
     ]
    }
   ],
   "source": [
    "print(\"hello world\")"
   ]
  },
  {
   "cell_type": "markdown",
   "id": "4c231c55",
   "metadata": {},
   "source": [
    "1. Erstellen eines Python Environements in VSCode CTRL + SHIFT + P Python Environemnt auswählen venv\n",
    "2. überprüfen: Terminal schliessen und wieder öffnen.\n",
    "3. pip intall jupyter\n"
   ]
  },
  {
   "cell_type": "markdown",
   "id": "4b47ff36",
   "metadata": {},
   "source": [
    "User-Story 1.1 Text was es sein soll, unsere Gedanken, "
   ]
  },
  {
   "cell_type": "code",
   "execution_count": 6,
   "id": "f4340179",
   "metadata": {},
   "outputs": [],
   "source": [
    "from pathlib import Path\n",
    "import shutil\n",
    "import os"
   ]
  },
  {
   "cell_type": "code",
   "execution_count": 7,
   "id": "ba184f40",
   "metadata": {},
   "outputs": [
    {
     "name": "stdout",
     "output_type": "stream",
     "text": [
      "/Users/elia/Documents/GitHub/Alpstay/HotelReservationsSystem_BAI/source\n"
     ]
    }
   ],
   "source": [
    "print(os.getcwd())"
   ]
  },
  {
   "cell_type": "code",
   "execution_count": 8,
   "id": "ddfc3bb5",
   "metadata": {},
   "outputs": [],
   "source": [
    "from businessLogic.hotelManager import HotelManager"
   ]
  },
  {
   "cell_type": "code",
   "execution_count": 9,
   "id": "89d44fc5",
   "metadata": {},
   "outputs": [
    {
     "name": "stdout",
     "output_type": "stream",
     "text": [
      "database/working.db\n"
     ]
    }
   ],
   "source": [
    "original_db = Path(\"./database/hotel_reservation_sample.db\")\n",
    "working_db = Path(\"./database/working.db\")\n",
    "\n",
    "print(shutil.copyfile(str(original_db), str(working_db)))"
   ]
  },
  {
   "cell_type": "code",
   "execution_count": 11,
   "id": "45918189",
   "metadata": {},
   "outputs": [],
   "source": [
    "os.environ[\"DB_FILE\"] = str(working_db)"
   ]
  },
  {
   "cell_type": "code",
   "execution_count": 12,
   "id": "2cc0a816",
   "metadata": {},
   "outputs": [],
   "source": [
    "hotel_manager = HotelManager()"
   ]
  },
  {
   "cell_type": "markdown",
   "id": "a45e5eaf",
   "metadata": {},
   "source": [
    "User Story 1.1: \"Ich möchte alle Hotels in einer Stadt durchsuchen, damit ich das Hotel nach meinem bevorzugten Standort (Stadt) auswählen kann.\""
   ]
  },
  {
   "cell_type": "code",
   "execution_count": 13,
   "id": "88229901",
   "metadata": {},
   "outputs": [
    {
     "ename": "",
     "evalue": "",
     "output_type": "error",
     "traceback": [
      "\u001b[1;31mCannot execute code, session has been disposed. Please try restarting the Kernel."
     ]
    },
    {
     "ename": "",
     "evalue": "",
     "output_type": "error",
     "traceback": [
      "\u001b[1;31mCannot execute code, session has been disposed. Please try restarting the Kernel. \n",
      "\u001b[1;31mView Jupyter <a href='command:jupyter.viewOutput'>log</a> for further details."
     ]
    }
   ],
   "source": [
    "city = input(\"Where do you want to search for hotels?\")\n",
    "\n",
    "hotels = hotel_manager.search_hotels_by_city(city)\n",
    "for hotel in hotels:\n",
    "    print(f'Hotels in {city}:')\n",
    "    print(hotel.name)"
   ]
  },
  {
   "cell_type": "markdown",
   "id": "7fa711d1",
   "metadata": {},
   "source": [
    "User Story 1.2: Ich möchte alle Hotels in einer Stadt nach der Anzahl der Sterne (z.B. mindestens 4 Sterne) durchsuchen."
   ]
  },
  {
   "cell_type": "code",
   "execution_count": null,
   "id": "e03b1d71",
   "metadata": {},
   "outputs": [],
   "source": [
    "city = input(\"Where do you want to search for hotels?\")\n",
    "stars = int(input(\"How many stars should the hotel have?\"))\n",
    "\n",
    "hotels = hotel_manager.search_hotels_by_city_and_stars(city, stars)\n",
    "for hotel in hotels:\n",
    "    print(f'Hotels in {city} mit mind. {stars} Sternen:')\n",
    "    print(hotel.name)"
   ]
  },
  {
   "cell_type": "markdown",
   "id": "1faa1bd3",
   "metadata": {},
   "source": [
    "User-Story 1.3: Ich möchte alle Hotels in einer Stadt durchsuchen, die Zimmer haben, die meiner Gästezahl entsprechen (nur 1 Zimmer pro Buchung)."
   ]
  },
  {
   "cell_type": "code",
   "execution_count": null,
   "id": "fbc8157f",
   "metadata": {},
   "outputs": [],
   "source": [
    "city = input(\"Where do you want to search for hotels?\")\n",
    "max_guests = int(input(\"For how many guests do you need a room?\"))\n",
    "\n",
    "hotels = hotel_manager.search_hotels_by_city_and_max_guests(city, max_guests)\n",
    "for hotel in hotels:\n",
    "    print(f'Hotels in {city} mit Zimmern für {max_guests} Personen:')\n",
    "    print(hotel.name)"
   ]
  },
  {
   "cell_type": "markdown",
   "id": "e0f51ea5",
   "metadata": {},
   "source": [
    "User-Story 1.4: Ich möchte alle Hotels in einer Stadt durchsuchen, die während meines Aufenthaltes (\"von\" (check_in_date) und \"bis\" (check_out_date)) Zimmer zur Verfügung haben, damit ich nur relevante Ergebnisse sehe.\n"
   ]
  },
  {
   "cell_type": "code",
   "execution_count": null,
   "id": "dd35230c",
   "metadata": {},
   "outputs": [],
   "source": [
    "city = input(\"Where do you want to search for hotels? \")\n",
    "check_in_date = input(\"Check-in date (YYYY-MM-DD): \")\n",
    "check_out_date = input(\"Check-out date (YYYY-MM-DD): \")\n",
    "\n",
    "hotels = hotel_manager.search_hotels_by_city_and_dates(city, check_in_date, check_out_date)\n",
    "\n",
    "for hotel in hotels:\n",
    "    print(f'Hotels in {city} available from {check_in_date} to {check_out_date}:')\n",
    "    print(hotel.name)"
   ]
  },
  {
   "cell_type": "markdown",
   "id": "6066796e",
   "metadata": {},
   "source": [
    "User-Story 1.5: Ich möchte Wünsche kombinieren können, z.B. die verfügbaren Zimmer zusammen mit meiner Gästezahl und der mindest Anzahl Sterne."
   ]
  },
  {
   "cell_type": "code",
   "execution_count": null,
   "id": "55501473",
   "metadata": {},
   "outputs": [],
   "source": [
    "city = input(\"Where do you want to search for hotels?\")\n",
    "stars = int(input(\"How many stars should the hotel have?\"))\n",
    "max_guests = int(input(\"For how many guests do you need a room?\"))\n",
    "check_in_date = input(\"Check-in date (YYYY-MM-DD): \")\n",
    "check_out_date = input(\"Check-out date (YYYY-MM-DD): \")\n",
    "\n",
    "hotels = hotel_manager.search_hotels_by_combinations(city, stars, max_guests, check_in_date, check_out_date)\n",
    "\n",
    "for hotel in hotels: \n",
    "    print(f'Hotels in {city} with {stars} and capacity for {max_guests} available from {check_in_date} to {check_out_date}:')\n",
    "    print(hotel.name)\n"
   ]
  },
  {
   "cell_type": "markdown",
   "id": "58ade10c",
   "metadata": {},
   "source": [
    "User-Story 1.6: Ich möchte die folgenden Informationen pro Hotel sehen: Name, Adresse, Anzahl der Sterne.\n"
   ]
  },
  {
   "cell_type": "code",
   "execution_count": 5,
   "id": "7158f127",
   "metadata": {},
   "outputs": [
    {
     "ename": "NameError",
     "evalue": "name 'hotel_manager' is not defined",
     "output_type": "error",
     "traceback": [
      "\u001b[0;31m---------------------------------------------------------------------------\u001b[0m",
      "\u001b[0;31mNameError\u001b[0m                                 Traceback (most recent call last)",
      "Cell \u001b[0;32mIn[5], line 1\u001b[0m\n\u001b[0;32m----> 1\u001b[0m hotels \u001b[38;5;241m=\u001b[39m \u001b[43mhotel_manager\u001b[49m\u001b[38;5;241m.\u001b[39msearch_hotel_information()\n",
      "\u001b[0;31mNameError\u001b[0m: name 'hotel_manager' is not defined"
     ]
    }
   ],
   "source": [
    "hotels = hotel_manager.search_hotel_information()"
   ]
  },
  {
   "cell_type": "markdown",
   "id": "b7c73435",
   "metadata": {},
   "source": [
    "User-Story 2.1: Ich möchte die folgenden Informationen pro Zimmer sehen: Zimmertyp, max. Anzahl der Gäste, Beschreibung, Ausstattung, Preis pro Nacht und Gesamtpreis.\n"
   ]
  },
  {
   "cell_type": "code",
   "execution_count": null,
   "id": "421551e9",
   "metadata": {},
   "outputs": [],
   "source": []
  },
  {
   "cell_type": "markdown",
   "id": "e9bb760c",
   "metadata": {},
   "source": [
    "User-Story 2.2: Ich möchte nur die verfügbaren Zimmer sehen, sofern ich meinen Aufenthalt (von – bis) spezifiziert habe."
   ]
  },
  {
   "cell_type": "code",
   "execution_count": null,
   "id": "856e75d5",
   "metadata": {},
   "outputs": [],
   "source": []
  },
  {
   "cell_type": "markdown",
   "id": "cea7a19e",
   "metadata": {},
   "source": [
    "User-Story 3.1: Ich möchte neue Hotels zum System hinzufügen"
   ]
  },
  {
   "cell_type": "code",
   "execution_count": null,
   "id": "cbb68b68",
   "metadata": {},
   "outputs": [],
   "source": [
    "name = str(input(\"What is the name?\"))\n",
    "stars = int(input(\"How many stars does the hotel have?\"))\n",
    "address_id = int(input(\"insert address_id -> if there isn't corresponding address, create first a new address\"))\n",
    "\n",
    "hotel = HotelManager.add_hotel(name, stars, address_id)\n",
    "print(f'{name} added!')"
   ]
  },
  {
   "cell_type": "markdown",
   "id": "2a1f18ed",
   "metadata": {},
   "source": [
    "User-Story 3.2: Ich möchte Hotels aus dem System entfernen"
   ]
  },
  {
   "cell_type": "code",
   "execution_count": null,
   "id": "0cb3bb03",
   "metadata": {},
   "outputs": [],
   "source": [
    "hotel_id = int(input(\"Insert the hotel_id from the Hotel you want to delete\"))\n",
    "\n",
    "hotel = HotelManager.delete_hotel(hotel_id)\n",
    "print(\"Hotel deleted!\")"
   ]
  },
  {
   "cell_type": "markdown",
   "id": "d3a699d0",
   "metadata": {},
   "source": [
    "User-Story 3.3: Ich möchte die Informationen bestimmter Hotels aktualisieren, z.B. den Namen, die Sterne usw."
   ]
  },
  {
   "cell_type": "code",
   "execution_count": null,
   "id": "774731c8",
   "metadata": {},
   "outputs": [],
   "source": [
    "hotel_id = int(input(\"Insert the hotel_id from the hotel you wish to make changes to\"))\n",
    "name = str(input(\"if you want to change the name insert new name otherwise leave empty\")) = None\n",
    "stars = int(input(\"if you want to change the number of stars insert new amount of stars otherwise leave empty\")) = None\n",
    "address_id = int(input(\"if you want to change the address insert new address_id otherwise leave empty\")) = None\n",
    "\n",
    "hotel = HotelManager.update_hotel(hotel_id, name = None, stars = None, address_id = None)\n",
    "print(\"Changes succesfully done\")"
   ]
  },
  {
   "cell_type": "markdown",
   "id": "e7c4b315",
   "metadata": {},
   "source": [
    "User-Story 7: Als Gast möchte ich eine dynamische Preisgestaltung auf der Grundlage der Nachfrage sehen, damit ich ein Zimmer zum besten Preis buchen kann."
   ]
  },
  {
   "cell_type": "code",
   "execution_count": null,
   "id": "22513635",
   "metadata": {},
   "outputs": [],
   "source": []
  },
  {
   "cell_type": "markdown",
   "id": "9ca42427",
   "metadata": {},
   "source": [
    "User-Story 8: Als Admin des Buchungssystems möchte ich alle Buchungen aller Hotels sehen können, um eine Übersicht zu erhalten."
   ]
  },
  {
   "cell_type": "code",
   "execution_count": null,
   "id": "8cc5f3e1",
   "metadata": {},
   "outputs": [],
   "source": []
  },
  {
   "cell_type": "markdown",
   "id": "1e6b0de0",
   "metadata": {},
   "source": [
    "User-Story 9: Als Admin möchte ich eine Liste der Zimmer mit ihrer Ausstattung sehen, damit ich sie besser bewerben kann."
   ]
  },
  {
   "cell_type": "code",
   "execution_count": null,
   "id": "6a0e267e",
   "metadata": {},
   "outputs": [],
   "source": []
  }
 ],
 "metadata": {
  "kernelspec": {
   "display_name": "Python 3",
   "language": "python",
   "name": "python3"
  },
  "language_info": {
   "codemirror_mode": {
    "name": "ipython",
    "version": 3
   },
   "file_extension": ".py",
   "mimetype": "text/x-python",
   "name": "python",
   "nbconvert_exporter": "python",
   "pygments_lexer": "ipython3",
   "version": "3.9.6"
  }
 },
 "nbformat": 4,
 "nbformat_minor": 5
}
