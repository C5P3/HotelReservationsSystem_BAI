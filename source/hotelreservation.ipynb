{
 "cells": [
  {
   "cell_type": "code",
   "execution_count": null,
   "id": "4b4f4fbc",
   "metadata": {},
   "outputs": [],
   "source": [
    "print(\"hello world\")"
   ]
  },
  {
   "cell_type": "markdown",
   "id": "4c231c55",
   "metadata": {},
   "source": [
    "1. Erstellen eines Python Environements in VSCode CTRL + SHIFT + P Python Environemnt auswählen venv\n",
    "2. überprüfen: Terminal schliessen und wieder öffnen.\n",
    "3. pip intall jupyter\n"
   ]
  },
  {
   "cell_type": "markdown",
   "id": "4b47ff36",
   "metadata": {},
   "source": [
    "User-Story 1.1 Text was es sein soll, unsere Gedanken, "
   ]
  },
  {
   "cell_type": "code",
   "execution_count": null,
   "id": "f4340179",
   "metadata": {},
   "outputs": [],
   "source": [
    "from pathlib import Path\n",
    "import shutil\n",
    "import os"
   ]
  },
  {
   "cell_type": "code",
   "execution_count": null,
   "id": "ba184f40",
   "metadata": {},
   "outputs": [],
   "source": [
    "print(os.getcwd())"
   ]
  },
  {
   "cell_type": "markdown",
   "id": "3408a0f7",
   "metadata": {},
   "source": [
    "Executen, um alle Imports zu erhalten, die für die User-Storys benötigt werden"
   ]
  },
  {
   "cell_type": "code",
   "execution_count": null,
   "id": "3cc31209",
   "metadata": {},
   "outputs": [],
   "source": [
    "import shutil\n",
    "from pathlib import Path\n",
    "import os\n",
    "\n",
    "original_db = Path(\"./database/hotel_reservation_sample.db\")\n",
    "working_db = Path(\"./database/working.db\")\n",
    "\n",
    "shutil.copyfile(str(original_db), str(working_db))\n",
    "\n",
    "os.environ['DB_FILE'] = str(working_db)\n",
    "\n",
    "\n",
    "from datetime import date, datetime\n",
    "\n",
    "from businessLogic.accessManager import AccessManager\n",
    "from businessLogic.addressManager import AddressManager\n",
    "from businessLogic.bookingManager import BookingManager\n",
    "from businessLogic.hotelManager import HotelManager\n",
    "from businessLogic.invoiceManager import InvoiceManager\n",
    "from businessLogic.roomManager import RoomManager\n",
    "from businessLogic.roomTypeManager import RoomTypeManager\n",
    "\n",
    "address_manager = AddressManager()\n",
    "access_manager = AccessManager()\n",
    "booking_manager = BookingManager()\n",
    "hotel_manager = HotelManager()\n",
    "invoice_manager = InvoiceManager()\n",
    "room_manager = RoomManager()\n",
    "room_type_manager = RoomTypeManager()\n"
   ]
  },
  {
   "cell_type": "code",
   "execution_count": null,
   "id": "45918189",
   "metadata": {},
   "outputs": [],
   "source": [
    "os.environ[\"DB_FILE\"] = str(working_db)"
   ]
  },
  {
   "cell_type": "markdown",
   "id": "a45e5eaf",
   "metadata": {},
   "source": [
    "User Story 1.1: \"Ich möchte alle Hotels in einer Stadt durchsuchen, damit ich das Hotel nach meinem bevorzugten Standort (Stadt) auswählen kann.\""
   ]
  },
  {
   "cell_type": "code",
   "execution_count": null,
   "id": "88229901",
   "metadata": {},
   "outputs": [],
   "source": [
    "city = input(\"Where do you want to search for hotels?\")\n",
    "\n",
    "hotels = hotel_manager.search_hotels_by_city(city,)\n",
    "for hotel in hotels:\n",
    "    print(f'Hotels in {city}:')\n",
    "    print(hotel.name)"
   ]
  },
  {
   "cell_type": "markdown",
   "id": "7fa711d1",
   "metadata": {},
   "source": [
    "User Story 1.2: Ich möchte alle Hotels in einer Stadt nach der Anzahl der Sterne (z.B. mindestens 4 Sterne) durchsuchen."
   ]
  },
  {
   "cell_type": "code",
   "execution_count": null,
   "id": "e03b1d71",
   "metadata": {},
   "outputs": [],
   "source": [
    "city = input(\"Where do you want to search for hotels?\")\n",
    "stars = int(input(\"How many stars should the hotel have?\"))\n",
    "\n",
    "hotels = hotel_manager.search_hotels_by_city_and_stars(city, stars)\n",
    "for hotel in hotels:\n",
    "    print(f'Hotels in {city} mit mind. {stars} Sternen:')\n",
    "    print(hotel.name)"
   ]
  },
  {
   "cell_type": "markdown",
   "id": "1faa1bd3",
   "metadata": {},
   "source": [
    "User-Story 1.3: Ich möchte alle Hotels in einer Stadt durchsuchen, die Zimmer haben, die meiner Gästezahl entsprechen (nur 1 Zimmer pro Buchung)."
   ]
  },
  {
   "cell_type": "code",
   "execution_count": null,
   "id": "fbc8157f",
   "metadata": {},
   "outputs": [],
   "source": [
    "city = input(\"Where do you want to search for hotels?\")\n",
    "max_guests = int(input(\"For how many guests do you need a room?\"))\n",
    "\n",
    "hotels = hotel_manager.search_hotels_by_city_and_max_guests(city, max_guests)\n",
    "for hotel in hotels:\n",
    "    print(f'Hotels in {city} mit Zimmern für {max_guests} Personen:')\n",
    "    print(hotel.name)"
   ]
  },
  {
   "cell_type": "markdown",
   "id": "e0f51ea5",
   "metadata": {},
   "source": [
    "User-Story 1.4: Ich möchte alle Hotels in einer Stadt durchsuchen, die während meines Aufenthaltes (\"von\" (check_in_date) und \"bis\" (check_out_date)) Zimmer zur Verfügung haben, damit ich nur relevante Ergebnisse sehe.\n"
   ]
  },
  {
   "cell_type": "code",
   "execution_count": null,
   "id": "dd35230c",
   "metadata": {},
   "outputs": [],
   "source": [
    "city = input(\"Where do you want to search for hotels? \")\n",
    "check_in_date = input(\"Check-in date (YYYY-MM-DD): \")\n",
    "check_out_date = input(\"Check-out date (YYYY-MM-DD): \")\n",
    "\n",
    "hotels = hotel_manager.search_hotels_by_city_and_dates(city, check_in_date, check_out_date)\n",
    "\n",
    "for hotel in hotels:\n",
    "    print(f'Hotels in {city} available from {check_in_date} to {check_out_date}:')\n",
    "    print(hotel.name)"
   ]
  },
  {
   "cell_type": "markdown",
   "id": "6066796e",
   "metadata": {},
   "source": [
    "User-Story 1.5: Ich möchte Wünsche kombinieren können, z.B. die verfügbaren Zimmer zusammen mit meiner Gästezahl und der mindest Anzahl Sterne."
   ]
  },
  {
   "cell_type": "code",
   "execution_count": null,
   "id": "55501473",
   "metadata": {},
   "outputs": [],
   "source": [
    "city = input(\"Where do you want to search for hotels?\")\n",
    "stars = int(input(\"How many stars should the hotel have?\"))\n",
    "max_guests = int(input(\"For how many guests do you need a room?\"))\n",
    "check_in_date = input(\"Check-in date (YYYY-MM-DD): \")\n",
    "check_out_date = input(\"Check-out date (YYYY-MM-DD): \")\n",
    "\n",
    "hotels = hotel_manager.search_hotels_by_combinations(city, stars, max_guests, check_in_date, check_out_date)\n",
    "\n",
    "for hotel in hotels: \n",
    "    print(f'Hotels in {city} with {stars} and capacity for {max_guests} available from {check_in_date} to {check_out_date}:')\n",
    "    print(hotel.name)\n"
   ]
  },
  {
   "cell_type": "markdown",
   "id": "58ade10c",
   "metadata": {},
   "source": [
    "User-Story 1.6: Ich möchte die folgenden Informationen pro Hotel sehen: Name, Adresse, Anzahl der Sterne.\n"
   ]
  },
  {
   "cell_type": "code",
   "execution_count": null,
   "id": "7158f127",
   "metadata": {},
   "outputs": [],
   "source": [
    "hotels = hotel_manager.search_hotel_information()"
   ]
  },
  {
   "cell_type": "markdown",
   "id": "b7c73435",
   "metadata": {},
   "source": [
    "User-Story 2.1: Ich möchte die folgenden Informationen pro Zimmer sehen: Zimmertyp, max. Anzahl der Gäste, Beschreibung, Ausstattung, Preis pro Nacht und Gesamtpreis.\n"
   ]
  },
  {
   "cell_type": "code",
   "execution_count": null,
   "id": "421551e9",
   "metadata": {},
   "outputs": [],
   "source": [
    "room_id = int(input(\"Bitte Zimmer-ID eingeben: \"))\n",
    "check_in_str = input(\"Check-in Datum (YYYY-MM-DD): \")\n",
    "check_out_str = input(\"Check-out Datum (YYYY-MM-DD): \")\n",
    "\n",
    "details = room_manager.get_room_details_with_total_price(room_id, check_in_str, check_out_str)\n",
    "if details:\n",
    "    print(f\"Zimmer {details['room_number']} (ID: {details['room_id']})\")\n",
    "    print(f\"  Zimmertyp: {details['room_type']['description']} (max. Gäste: {details['room_type']['max_guests']})\")\n",
    "    print(f\"  Ausstattung: {', '.join(details['facilities']) if details['facilities'] else 'Keine'}\")\n",
    "    print(f\"  Preis pro Nacht (Standard): {details['price_per_night']} CHF\")\n",
    "    print(f\"  Gesamtpreis für Aufenthalt (dynamisch): {details['total_price']} CHF\")\n",
    "else:\n",
    "    print(\"Zimmer nicht gefunden.\")"
   ]
  },
  {
   "cell_type": "markdown",
   "id": "e9bb760c",
   "metadata": {},
   "source": [
    "User-Story 2.2: Ich möchte nur die verfügbaren Zimmer sehen, sofern ich meinen Aufenthalt (von – bis) spezifiziert habe."
   ]
  },
  {
   "cell_type": "code",
   "execution_count": null,
   "id": "856e75d5",
   "metadata": {},
   "outputs": [],
   "source": [
    "check_in_str = input(\"Insert check in date YYYY-MM-DD: \")\n",
    "check_out_str = input(\"Insert check out date YYYY-MM-DD: \")\n",
    "\n",
    "try:\n",
    "    check_in = datetime.strptime(check_in_str, \"%Y-%m-%d\").date()\n",
    "    check_out = datetime.strptime(check_out_str, \"%Y-%m-%d\").date()\n",
    "except ValueError:\n",
    "    print(\"Invalid date format. Please use YYYY-MM-DD.\")\n",
    "    check_in = None\n",
    "    check_out = None\n",
    "\n",
    "if check_in and check_out:\n",
    "    available_rooms = room_manager.find_available_rooms_for_guest(\n",
    "        check_in_date=check_in,\n",
    "        check_out_date=check_out\n",
    "    )\n",
    "\n",
    "    if available_rooms:\n",
    "        print(f\"Verfügbare Zimmer vom {check_in} bis {check_out}:\")\n",
    "        for room in available_rooms:\n",
    "            print(\n",
    "                f\"  Zimmer ID: {room['room_id']}, \"\n",
    "                f\"Zimmernummer: {room['room_number']}, \"\n",
    "                f\"Hotel: {room['hotel']['name']}, \"\n",
    "                f\"Stadt: {room['hotel']['city']}\"\n",
    "            )\n",
    "    else:\n",
    "        print(f\"Keine verfügbaren Zimmer zwischen dem {check_in} und {check_out} gefunden.\")"
   ]
  },
  {
   "cell_type": "markdown",
   "id": "cea7a19e",
   "metadata": {},
   "source": [
    "User-Story 3.1: Ich möchte neue Hotels zum System hinzufügen"
   ]
  },
  {
   "cell_type": "code",
   "execution_count": null,
   "id": "cbb68b68",
   "metadata": {},
   "outputs": [],
   "source": [
    "street = input(\"Strasse und Hausnummer: \")\n",
    "city = input(\"Stadt: \")\n",
    "zip_code = input(\"PLZ: \")\n",
    "\n",
    "address = address_manager.add_address(street, city, zip_code)\n",
    "if address:\n",
    "    print(f\"Adresse erfolgreich angelegt: {street}, {zip_code} {city}\")\n",
    "    address_id = address[0]\n",
    "else:\n",
    "    print(\"Fehler beim Anlegen der Adresse.\")\n",
    "    address_id = int(input(\"Bitte Address-ID manuell eingeben: \"))\n",
    "\n",
    "hotel_name = input(\"Hotelname: \")\n",
    "stars = int(input(\"Sterne (1-5): \"))\n",
    "\n",
    "hotel = hotel_manager.add_hotel(hotel_name, stars, address_id)\n",
    "if hotel:\n",
    "    print(f\"Hotel '{hotel_name}' erfolgreich angelegt!\")\n",
    "    hotel_id = hotel[\"hotel_id\"]\n",
    "else:\n",
    "    print(\"Fehler beim Anlegen des Hotels.\")\n",
    "    hotel_id = int(input(\"Bitte Hotel-ID manuell eingeben: \"))\n",
    "    \n",
    "room_number = input(\"Zimmernummer: \")\n",
    "room_type_id = int(input(\"Room-Type-ID: \"))\n",
    "price_per_night = float(input(\"Preis pro Nacht: \"))\n",
    "\n",
    "room = room_manager.add_room(room_number, hotel_id, room_type_id, price_per_night)\n",
    "if room:\n",
    "    print(f\"Zimmer {room_number} erfolgreich angelegt!\")\n",
    "else:\n",
    "    print(\"Fehler beim Anlegen des Zimmers.\")"
   ]
  },
  {
   "cell_type": "markdown",
   "id": "2a1f18ed",
   "metadata": {},
   "source": [
    "User-Story 3.2: Ich möchte Hotels aus dem System entfernen"
   ]
  },
  {
   "cell_type": "code",
   "execution_count": null,
   "id": "0cb3bb03",
   "metadata": {},
   "outputs": [],
   "source": [
    "# Not copmplete yet\n",
    "address_id = int(input(\"Insert the address_id from the address you want to delete, otherwise leave empty\"))\n",
    "room_id = int(input(\"Insert the room_id from the Room you want to delete, otherwise leave empty\"))\n",
    "hotel_id = int(input(\"Insert the hotel_id from the Hotel you want to delete otherwise leave empty\"))\n",
    "\n",
    "address = AddressManager.delete_address(address_id)\n",
    "print(f\"Address with address_id {address_id} deleted!\")\n",
    "\n",
    "room = RoomManager.delete_room(room_id)\n",
    "print(f\"Room with room_id {room_id} deleted!\")\n",
    "\n",
    "hotel = HotelManager.delete_hotel(hotel_id)\n",
    "print(f\"Hotel with hotel_id {hotel_id} deleted!\")"
   ]
  },
  {
   "cell_type": "markdown",
   "id": "d3a699d0",
   "metadata": {},
   "source": [
    "User-Story 3.3: Ich möchte die Informationen bestimmter Hotels aktualisieren, z.B. den Namen, die Sterne usw."
   ]
  },
  {
   "cell_type": "code",
   "execution_count": null,
   "id": "774731c8",
   "metadata": {},
   "outputs": [],
   "source": [
    "# Not complete yet\n",
    "hotel_id = int(input(\"Insert the hotel_id from the hotel you wish to make changes to\"))\n",
    "name = str(input(\"if you want to change the name insert new name otherwise leave empty\")) = None\n",
    "stars = int(input(\"if you want to change the number of stars insert new amount of stars otherwise leave empty\")) = None\n",
    "address_id = int(input(\"if you want to change the address insert new address_id otherwise leave empty\")) = None\n",
    "\n",
    "hotel = HotelManager.update_hotel(hotel_id, name = None, stars = None, address_id = None)\n",
    "print(\"Changes succesfully done\")"
   ]
  },
  {
   "cell_type": "markdown",
   "id": "e0e2efa2",
   "metadata": {},
   "source": [
    "Zusätzlich zu User-Story 3.3: Ich möchte die Addresse aktualisieren"
   ]
  },
  {
   "cell_type": "code",
   "execution_count": null,
   "id": "72d3f90a",
   "metadata": {},
   "outputs": [],
   "source": [
    "# Not complete yet\n",
    "address_id = int(input(\"Insert the address_id from the address you wish to make changes to\"))\n",
    "street = str(input(\"if you want to change the street name, insert new street name. Othervise leave empty\"))\n",
    "city = str(input(\"if you want to change the city, insert new city name. Othervise leave empty\"))\n",
    "zip_code = int(input(\"if you want to change the zip_code, insert new zip_code. Othervise leave empty\"))\n",
    "\n",
    "address = AddressManager.update_address(address_id, street = None, city = None, zip_code = None)\n",
    "print(\"Chamges succesfully done\")"
   ]
  },
  {
   "cell_type": "markdown",
   "id": "3991fed1",
   "metadata": {},
   "source": [
    "User-Story 4: Als Gast möchte ich ein Zimmer in einem bestimmten Hotel buchen, um meinen Urlaub zu planen."
   ]
  },
  {
   "cell_type": "code",
   "execution_count": null,
   "id": "c9405369",
   "metadata": {},
   "outputs": [],
   "source": []
  },
  {
   "cell_type": "markdown",
   "id": "cf8b599a",
   "metadata": {},
   "source": [
    "User-Story 5: Als Gast möchte ich nach meinem Aufenthalt eine Rechnung erhalten, damit ich einen Zahlungsnachweis habe."
   ]
  },
  {
   "cell_type": "code",
   "execution_count": null,
   "id": "10fa6fbd",
   "metadata": {},
   "outputs": [],
   "source": []
  },
  {
   "cell_type": "markdown",
   "id": "2362fe55",
   "metadata": {},
   "source": [
    "User-Story 6: Als Gast möchte ich meine Buchung stornieren, damit ich nicht belastet werde, wenn ich das Zimmer nicht mehr benötige."
   ]
  },
  {
   "cell_type": "code",
   "execution_count": null,
   "id": "55c7fc4a",
   "metadata": {},
   "outputs": [],
   "source": []
  },
  {
   "cell_type": "markdown",
   "id": "e7c4b315",
   "metadata": {},
   "source": [
    "User-Story 7: Als Gast möchte ich eine dynamische Preisgestaltung auf der Grundlage der Nachfrage sehen, damit ich ein Zimmer zum besten Preis buchen kann."
   ]
  },
  {
   "cell_type": "code",
   "execution_count": null,
   "id": "22513635",
   "metadata": {},
   "outputs": [],
   "source": [
    "# Not complete yet\n",
    "room_id = int(input(\"Insert room_id, from the room you want to book\"))\n",
    "check_in_date = date(input(\"Insert check in date in the following format YYYY-MM-DD\"))\n",
    "check_out_date = date(input(\"Inser check out date in the following format YYYY-MM-DD\"))\n",
    "\n",
    "price = RoomManager.calculate_total_price_per_stay(room_id, check_in, check_out)\n",
    "print(f\"The total for your stay is going to be {price} CHF.\")"
   ]
  },
  {
   "cell_type": "markdown",
   "id": "9ca42427",
   "metadata": {},
   "source": [
    "User-Story 8: Als Admin des Buchungssystems möchte ich alle Buchungen aller Hotels sehen können, um eine Übersicht zu erhalten."
   ]
  },
  {
   "cell_type": "code",
   "execution_count": null,
   "id": "8cc5f3e1",
   "metadata": {},
   "outputs": [],
   "source": [
    "# Not complete yet\n",
    "bookings = BookingManager.search_all_bookings\n",
    "\n",
    "\n",
    "print(f\"\")"
   ]
  },
  {
   "cell_type": "markdown",
   "id": "1e6b0de0",
   "metadata": {},
   "source": [
    "User-Story 9: Als Admin möchte ich eine Liste der Zimmer mit ihrer Ausstattung sehen, damit ich sie besser bewerben kann."
   ]
  },
  {
   "cell_type": "code",
   "execution_count": null,
   "id": "6a0e267e",
   "metadata": {},
   "outputs": [],
   "source": [
    "# Not complete yet\n",
    "rooms_data = RoomManager.get_all_rooms_details_with_facilities\n",
    "\n",
    "\n",
    "print(\"Here is a list of all the rooms with their facilities\")\n",
    "print(f\"{rooms_data}\")"
   ]
  },
  {
   "cell_type": "markdown",
   "id": "97d1eaad",
   "metadata": {},
   "source": [
    "User-Story 10: Als Admin möchte ich in der Lage sein, Stammdaten zu verwalten, z.B. Zimmertypen, Einrichtungen, und Preise in Echtzeit zu aktualisieren, damit das Backend-System aktuelle Informationen hat."
   ]
  },
  {
   "cell_type": "code",
   "execution_count": null,
   "id": "6da84b26",
   "metadata": {},
   "outputs": [],
   "source": []
  }
 ],
 "metadata": {
  "kernelspec": {
   "display_name": "Python 3",
   "language": "python",
   "name": "python3"
  },
  "language_info": {
   "codemirror_mode": {
    "name": "ipython",
    "version": 3
   },
   "file_extension": ".py",
   "mimetype": "text/x-python",
   "name": "python",
   "nbconvert_exporter": "python",
   "pygments_lexer": "ipython3",
   "version": "3.9.6"
  }
 },
 "nbformat": 4,
 "nbformat_minor": 5
}
